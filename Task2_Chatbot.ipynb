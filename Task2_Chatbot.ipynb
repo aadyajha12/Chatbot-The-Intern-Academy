{
  "nbformat": 4,
  "nbformat_minor": 0,
  "metadata": {
    "colab": {
      "name": "Task2-Chatbot.ipynb",
      "provenance": [],
      "collapsed_sections": [],
      "authorship_tag": "ABX9TyNBOoMCCsL6hXVqBF+Kvm4/",
      "include_colab_link": true
    },
    "kernelspec": {
      "display_name": "Python 3",
      "name": "python3"
    },
    "language_info": {
      "name": "python"
    }
  },
  "cells": [
    {
      "cell_type": "markdown",
      "metadata": {
        "id": "view-in-github",
        "colab_type": "text"
      },
      "source": [
        "<a href=\"https://colab.research.google.com/github/aadyajha12/Chatbot-The-Intern-Academy/blob/main/Task2_Chatbot.ipynb\" target=\"_parent\"><img src=\"https://colab.research.google.com/assets/colab-badge.svg\" alt=\"Open In Colab\"/></a>"
      ]
    },
    {
      "cell_type": "markdown",
      "metadata": {
        "id": "zwKlItKJJrC_"
      },
      "source": [
        "#**Task 2 - ChatBot by Aadya Jha**\n",
        "#**The Intern Academy**"
      ]
    },
    {
      "cell_type": "code",
      "metadata": {
        "colab": {
          "base_uri": "https://localhost:8080/"
        },
        "id": "ApXueHtSJcxb",
        "outputId": "f6e33c6d-75ab-4241-d89c-9ccc061f8540"
      },
      "source": [
        "#installing the chatterbot module using pip\n",
        "!pip3 install chatterbot\n",
        "\n",
        "#import the necessary libraries from the chatterbot module\n",
        "from chatterbot import ChatBot\n",
        "from chatterbot.trainers import ListTrainer\n",
        "\n",
        "\n",
        "#create a chatbot named Aad - making it read only and adding a logical adapter\n",
        "bot = ChatBot(name=\"Aad\",\n",
        "              read_only=\"True\",\n",
        "              logic_adapters=[\n",
        "                'chatterbot.logic.BestMatch',\n",
        "                ],\n",
        ")\n",
        "\n",
        "\n",
        "#train the robot by teaching basic conversational sentences\n",
        "trainer = ListTrainer(bot)\n",
        "\n",
        "\n",
        "trainer.train([\n",
        "               \"Hello\",\n",
        "               \"Hi!How are you doing?\",\n",
        "               \"I am doing fantastic, thanks for asking!\",\n",
        "               \"Who are you?\",\n",
        "               \"I am Aad, a chatbot designed by Aadya Jha of the Intern Academy\",\n",
        "               \"Are you human?\",\n",
        "               \"No, I am a robot.\",\n",
        "               \"What are you doing?\",\n",
        "               \"Answering your question.\"\n",
        "               \"\",\n",
        "               \"Hey!Are you there?\",\n",
        "\n",
        "])\n",
        "\n",
        "\n",
        "#train the robot by teaching basic conversational sentences\n",
        "# the bot is being trained with the same input so that the bot can create a variety of outputs to the same question\n",
        "trainer.train([\n",
        "               \"Hi \",\n",
        "               \"Hey!! How are you doing?\",\n",
        "               \"Good\",\n",
        "               \"That's great to hear :)\",\n",
        "               \"How are you?\",\n",
        "               \"Fine\",\n",
        "               \"Are you human?\",\n",
        "               \"Maybe yes, maybe no!\",\n",
        "               \" \",\n",
        "               \"Sometimes saying nothing means a lot\",\n",
        "               \"What is the weather in Delhi ?\",\n",
        "               \"It is sunny\",\n",
        "\n",
        "])\n",
        "\n",
        "\n",
        "#train the robot by teaching basic conversational sentences\n",
        "trainer.train([\n",
        "               \"Hi\",\n",
        "               \"Hellooo! How are you doing?\",\n",
        "               \"Are you human ?\",\n",
        "               \"No, I am a chatbot\",\n",
        "               \"What is the weather in Delhi?\",\n",
        "               \"It is rainy\"\n",
        "])\n",
        "\n",
        "\n",
        "#The following loop will execute each time the user enters input\n",
        "while True:\n",
        "  # the bot will check the input to see if bye,Bye, end or End has been typed\n",
        "  # if true, the bot will understand to stop the conversation and end the program\n",
        "    try:\n",
        "        aads_input =input(\"You : \")\n",
        "        if aads_input== \"Bye\" or aads_input== \"bye\" or aads_input== \"End\" or aads_input == \"end\":\n",
        "            print(f\"{bot.name} : Bye!\")\n",
        "            break\n",
        "    # if false, the bot will continue to add its name and response in an organised format\n",
        "        else:\n",
        "            aads_response = bot.get_response(aads_input)\n",
        "            print(f\"{bot.name} : {aads_response}\")\n",
        "\n",
        "    #Press ctrl-c or ctrl-d on the keyboard to exit       \n",
        "    except (KeyboardInterrupt,EOFError,SystemExit):\n",
        "        break;"
      ],
      "execution_count": 4,
      "outputs": [
        {
          "output_type": "stream",
          "text": [
            "Requirement already satisfied: chatterbot in /usr/local/lib/python3.7/dist-packages (1.0.8)\n",
            "Requirement already satisfied: sqlalchemy<1.4,>=1.3 in /usr/local/lib/python3.7/dist-packages (from chatterbot) (1.3.24)\n",
            "Requirement already satisfied: pytz in /usr/local/lib/python3.7/dist-packages (from chatterbot) (2018.9)\n",
            "Requirement already satisfied: python-dateutil<2.9,>=2.8 in /usr/local/lib/python3.7/dist-packages (from chatterbot) (2.8.2)\n",
            "Requirement already satisfied: mathparse<0.2,>=0.1 in /usr/local/lib/python3.7/dist-packages (from chatterbot) (0.1.2)\n",
            "Requirement already satisfied: six>=1.5 in /usr/local/lib/python3.7/dist-packages (from python-dateutil<2.9,>=2.8->chatterbot) (1.15.0)\n",
            "List Trainer: [####################] 100%\n",
            "List Trainer: [####################] 100%\n",
            "List Trainer: [####################] 100%\n",
            "You : Hi\n",
            "Aad : Hey!! How are you doing?\n",
            "You : Good\n",
            "Aad : That's great to hear :)\n",
            "You : Are you human?\n",
            "Aad : No, I am a robot.\n",
            "You : Are you human ?\n",
            "Aad : No, I am a robot.\n",
            "You : What is the weather in Delhi?\n",
            "Aad : It is sunny\n",
            "You : Who are you?\n",
            "Aad : I am Aad, a chatbot designed by Aadya Jha of the Intern Academy\n",
            "You : Bye\n",
            "Aad: Bye!\n"
          ],
          "name": "stdout"
        }
      ]
    }
  ]
}